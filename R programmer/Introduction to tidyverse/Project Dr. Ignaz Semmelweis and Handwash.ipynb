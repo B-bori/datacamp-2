{
 "cells": [
  {
   "cell_type": "markdown",
   "metadata": {},
   "source": [
    "# 1. Meet Dr. Ignaz Semmelweis"
   ]
  },
  {
   "cell_type": "code",
   "execution_count": 1,
   "metadata": {},
   "outputs": [
    {
     "data": {
      "text/html": [
       "'C:/Users/Daniel/Documents/GitHub/datacamp/R programmer/Introduction to tidyverse'"
      ],
      "text/latex": [
       "'C:/Users/Daniel/Documents/GitHub/datacamp/R programmer/Introduction to tidyverse'"
      ],
      "text/markdown": [
       "'C:/Users/Daniel/Documents/GitHub/datacamp/R programmer/Introduction to tidyverse'"
      ],
      "text/plain": [
       "[1] \"C:/Users/Daniel/Documents/GitHub/datacamp/R programmer/Introduction to tidyverse\""
      ]
     },
     "metadata": {},
     "output_type": "display_data"
    }
   ],
   "source": [
    "# Directorio de trabajo\n",
    "getwd()"
   ]
  },
  {
   "cell_type": "code",
   "execution_count": 2,
   "metadata": {},
   "outputs": [
    {
     "name": "stderr",
     "output_type": "stream",
     "text": [
      "Installing package into 'C:/Users/Daniel/Documents/R/win-library/3.6'\n",
      "(as 'lib' is unspecified)\n",
      "also installing the dependency 'rlang'\n",
      "\n"
     ]
    },
    {
     "name": "stdout",
     "output_type": "stream",
     "text": [
      "package 'rlang' successfully unpacked and MD5 sums checked\n"
     ]
    },
    {
     "name": "stderr",
     "output_type": "stream",
     "text": [
      "Warning message:\n",
      "\"cannot remove prior installation of package 'rlang'\"Warning message in file.copy(savedcopy, lib, recursive = TRUE):\n",
      "\"problema al copiar C:\\Users\\Daniel\\Documents\\R\\win-library\\3.6\\00LOCK\\rlang\\libs\\x64\\rlang.dll  a C:\\Users\\Daniel\\Documents\\R\\win-library\\3.6\\rlang\\libs\\x64\\rlang.dll: Permission denied\"Warning message:\n",
      "\"restored 'rlang'\""
     ]
    },
    {
     "name": "stdout",
     "output_type": "stream",
     "text": [
      "package 'tidyverse' successfully unpacked and MD5 sums checked\n",
      "\n",
      "The downloaded binary packages are in\n",
      "\tC:\\Users\\Daniel\\AppData\\Local\\Temp\\RtmpgPtnBk\\downloaded_packages\n"
     ]
    }
   ],
   "source": [
    "# Install tidyverse\n",
    "install.packages(\"tidyverse\")"
   ]
  },
  {
   "cell_type": "code",
   "execution_count": 3,
   "metadata": {},
   "outputs": [
    {
     "name": "stderr",
     "output_type": "stream",
     "text": [
      "\n",
      "Attaching package: 'dplyr'\n",
      "\n",
      "The following objects are masked from 'package:stats':\n",
      "\n",
      "    filter, lag\n",
      "\n",
      "The following objects are masked from 'package:base':\n",
      "\n",
      "    intersect, setdiff, setequal, union\n",
      "\n"
     ]
    },
    {
     "data": {
      "text/html": [
       "<table>\n",
       "<thead><tr><th scope=col>year</th><th scope=col>births</th><th scope=col>deaths</th><th scope=col>clinic</th></tr></thead>\n",
       "<tbody>\n",
       "\t<tr><td>1841    </td><td>3036    </td><td>237     </td><td>clinic 1</td></tr>\n",
       "\t<tr><td>1842    </td><td>3287    </td><td>518     </td><td>clinic 1</td></tr>\n",
       "\t<tr><td>1843    </td><td>3060    </td><td>274     </td><td>clinic 1</td></tr>\n",
       "\t<tr><td>1844    </td><td>3157    </td><td>260     </td><td>clinic 1</td></tr>\n",
       "\t<tr><td>1845    </td><td>3492    </td><td>241     </td><td>clinic 1</td></tr>\n",
       "\t<tr><td>1846    </td><td>4010    </td><td>459     </td><td>clinic 1</td></tr>\n",
       "\t<tr><td>1841    </td><td>2442    </td><td> 86     </td><td>clinic 2</td></tr>\n",
       "\t<tr><td>1842    </td><td>2659    </td><td>202     </td><td>clinic 2</td></tr>\n",
       "\t<tr><td>1843    </td><td>2739    </td><td>164     </td><td>clinic 2</td></tr>\n",
       "\t<tr><td>1844    </td><td>2956    </td><td> 68     </td><td>clinic 2</td></tr>\n",
       "\t<tr><td>1845    </td><td>3241    </td><td> 66     </td><td>clinic 2</td></tr>\n",
       "\t<tr><td>1846    </td><td>3754    </td><td>105     </td><td>clinic 2</td></tr>\n",
       "</tbody>\n",
       "</table>\n"
      ],
      "text/latex": [
       "\\begin{tabular}{r|llll}\n",
       " year & births & deaths & clinic\\\\\n",
       "\\hline\n",
       "\t 1841     & 3036     & 237      & clinic 1\\\\\n",
       "\t 1842     & 3287     & 518      & clinic 1\\\\\n",
       "\t 1843     & 3060     & 274      & clinic 1\\\\\n",
       "\t 1844     & 3157     & 260      & clinic 1\\\\\n",
       "\t 1845     & 3492     & 241      & clinic 1\\\\\n",
       "\t 1846     & 4010     & 459      & clinic 1\\\\\n",
       "\t 1841     & 2442     &  86      & clinic 2\\\\\n",
       "\t 1842     & 2659     & 202      & clinic 2\\\\\n",
       "\t 1843     & 2739     & 164      & clinic 2\\\\\n",
       "\t 1844     & 2956     &  68      & clinic 2\\\\\n",
       "\t 1845     & 3241     &  66      & clinic 2\\\\\n",
       "\t 1846     & 3754     & 105      & clinic 2\\\\\n",
       "\\end{tabular}\n"
      ],
      "text/markdown": [
       "\n",
       "| year | births | deaths | clinic |\n",
       "|---|---|---|---|\n",
       "| 1841     | 3036     | 237      | clinic 1 |\n",
       "| 1842     | 3287     | 518      | clinic 1 |\n",
       "| 1843     | 3060     | 274      | clinic 1 |\n",
       "| 1844     | 3157     | 260      | clinic 1 |\n",
       "| 1845     | 3492     | 241      | clinic 1 |\n",
       "| 1846     | 4010     | 459      | clinic 1 |\n",
       "| 1841     | 2442     |  86      | clinic 2 |\n",
       "| 1842     | 2659     | 202      | clinic 2 |\n",
       "| 1843     | 2739     | 164      | clinic 2 |\n",
       "| 1844     | 2956     |  68      | clinic 2 |\n",
       "| 1845     | 3241     |  66      | clinic 2 |\n",
       "| 1846     | 3754     | 105      | clinic 2 |\n",
       "\n"
      ],
      "text/plain": [
       "   year births deaths clinic  \n",
       "1  1841 3036   237    clinic 1\n",
       "2  1842 3287   518    clinic 1\n",
       "3  1843 3060   274    clinic 1\n",
       "4  1844 3157   260    clinic 1\n",
       "5  1845 3492   241    clinic 1\n",
       "6  1846 4010   459    clinic 1\n",
       "7  1841 2442    86    clinic 2\n",
       "8  1842 2659   202    clinic 2\n",
       "9  1843 2739   164    clinic 2\n",
       "10 1844 2956    68    clinic 2\n",
       "11 1845 3241    66    clinic 2\n",
       "12 1846 3754   105    clinic 2"
      ]
     },
     "metadata": {},
     "output_type": "display_data"
    }
   ],
   "source": [
    "# Load in the tidyverse package\n",
    "library(dplyr)\n",
    "\n",
    "# Read datasets/yearly_deaths_by_clinic.csv into yearly\n",
    "yearly <- read.csv('datasets/yearly_deaths_by_clinic.csv')\n",
    "\n",
    "# Print out yearly\n",
    "yearly"
   ]
  },
  {
   "cell_type": "markdown",
   "metadata": {},
   "source": [
    "# 2. The alarming number of deaths"
   ]
  },
  {
   "cell_type": "code",
   "execution_count": 4,
   "metadata": {},
   "outputs": [
    {
     "data": {
      "text/html": [
       "<table>\n",
       "<thead><tr><th scope=col>year</th><th scope=col>births</th><th scope=col>deaths</th><th scope=col>clinic</th><th scope=col>proportion_deaths</th></tr></thead>\n",
       "<tbody>\n",
       "\t<tr><td>1841      </td><td>3036      </td><td>237       </td><td>clinic 1  </td><td>0.07806324</td></tr>\n",
       "\t<tr><td>1842      </td><td>3287      </td><td>518       </td><td>clinic 1  </td><td>0.15759051</td></tr>\n",
       "\t<tr><td>1843      </td><td>3060      </td><td>274       </td><td>clinic 1  </td><td>0.08954248</td></tr>\n",
       "\t<tr><td>1844      </td><td>3157      </td><td>260       </td><td>clinic 1  </td><td>0.08235667</td></tr>\n",
       "\t<tr><td>1845      </td><td>3492      </td><td>241       </td><td>clinic 1  </td><td>0.06901489</td></tr>\n",
       "\t<tr><td>1846      </td><td>4010      </td><td>459       </td><td>clinic 1  </td><td>0.11446384</td></tr>\n",
       "\t<tr><td>1841      </td><td>2442      </td><td> 86       </td><td>clinic 2  </td><td>0.03521704</td></tr>\n",
       "\t<tr><td>1842      </td><td>2659      </td><td>202       </td><td>clinic 2  </td><td>0.07596841</td></tr>\n",
       "\t<tr><td>1843      </td><td>2739      </td><td>164       </td><td>clinic 2  </td><td>0.05987587</td></tr>\n",
       "\t<tr><td>1844      </td><td>2956      </td><td> 68       </td><td>clinic 2  </td><td>0.02300406</td></tr>\n",
       "\t<tr><td>1845      </td><td>3241      </td><td> 66       </td><td>clinic 2  </td><td>0.02036409</td></tr>\n",
       "\t<tr><td>1846      </td><td>3754      </td><td>105       </td><td>clinic 2  </td><td>0.02797017</td></tr>\n",
       "</tbody>\n",
       "</table>\n"
      ],
      "text/latex": [
       "\\begin{tabular}{r|lllll}\n",
       " year & births & deaths & clinic & proportion\\_deaths\\\\\n",
       "\\hline\n",
       "\t 1841       & 3036       & 237        & clinic 1   & 0.07806324\\\\\n",
       "\t 1842       & 3287       & 518        & clinic 1   & 0.15759051\\\\\n",
       "\t 1843       & 3060       & 274        & clinic 1   & 0.08954248\\\\\n",
       "\t 1844       & 3157       & 260        & clinic 1   & 0.08235667\\\\\n",
       "\t 1845       & 3492       & 241        & clinic 1   & 0.06901489\\\\\n",
       "\t 1846       & 4010       & 459        & clinic 1   & 0.11446384\\\\\n",
       "\t 1841       & 2442       &  86        & clinic 2   & 0.03521704\\\\\n",
       "\t 1842       & 2659       & 202        & clinic 2   & 0.07596841\\\\\n",
       "\t 1843       & 2739       & 164        & clinic 2   & 0.05987587\\\\\n",
       "\t 1844       & 2956       &  68        & clinic 2   & 0.02300406\\\\\n",
       "\t 1845       & 3241       &  66        & clinic 2   & 0.02036409\\\\\n",
       "\t 1846       & 3754       & 105        & clinic 2   & 0.02797017\\\\\n",
       "\\end{tabular}\n"
      ],
      "text/markdown": [
       "\n",
       "| year | births | deaths | clinic | proportion_deaths |\n",
       "|---|---|---|---|---|\n",
       "| 1841       | 3036       | 237        | clinic 1   | 0.07806324 |\n",
       "| 1842       | 3287       | 518        | clinic 1   | 0.15759051 |\n",
       "| 1843       | 3060       | 274        | clinic 1   | 0.08954248 |\n",
       "| 1844       | 3157       | 260        | clinic 1   | 0.08235667 |\n",
       "| 1845       | 3492       | 241        | clinic 1   | 0.06901489 |\n",
       "| 1846       | 4010       | 459        | clinic 1   | 0.11446384 |\n",
       "| 1841       | 2442       |  86        | clinic 2   | 0.03521704 |\n",
       "| 1842       | 2659       | 202        | clinic 2   | 0.07596841 |\n",
       "| 1843       | 2739       | 164        | clinic 2   | 0.05987587 |\n",
       "| 1844       | 2956       |  68        | clinic 2   | 0.02300406 |\n",
       "| 1845       | 3241       |  66        | clinic 2   | 0.02036409 |\n",
       "| 1846       | 3754       | 105        | clinic 2   | 0.02797017 |\n",
       "\n"
      ],
      "text/plain": [
       "   year births deaths clinic   proportion_deaths\n",
       "1  1841 3036   237    clinic 1 0.07806324       \n",
       "2  1842 3287   518    clinic 1 0.15759051       \n",
       "3  1843 3060   274    clinic 1 0.08954248       \n",
       "4  1844 3157   260    clinic 1 0.08235667       \n",
       "5  1845 3492   241    clinic 1 0.06901489       \n",
       "6  1846 4010   459    clinic 1 0.11446384       \n",
       "7  1841 2442    86    clinic 2 0.03521704       \n",
       "8  1842 2659   202    clinic 2 0.07596841       \n",
       "9  1843 2739   164    clinic 2 0.05987587       \n",
       "10 1844 2956    68    clinic 2 0.02300406       \n",
       "11 1845 3241    66    clinic 2 0.02036409       \n",
       "12 1846 3754   105    clinic 2 0.02797017       "
      ]
     },
     "metadata": {},
     "output_type": "display_data"
    }
   ],
   "source": [
    "# Adding a new column to yearly with proportion of deaths per no. births\n",
    "yearly <- yearly %>%\n",
    "            mutate(proportion_deaths = deaths/births)\n",
    "\n",
    "# Print out yearly\n",
    "yearly"
   ]
  },
  {
   "cell_type": "markdown",
   "metadata": {},
   "source": [
    "# 3. Death at the clinics"
   ]
  },
  {
   "cell_type": "code",
   "execution_count": 5,
   "metadata": {},
   "outputs": [
    {
     "data": {
      "image/png": "[encoded data removed]",
      "text/plain": [
       "plot without title"
      ]
     },
     "metadata": {},
     "output_type": "display_data"
    }
   ],
   "source": [
    "# Setting the size of plots in this notebook\n",
    "library(ggplot2)\n",
    "options(repr.plot.width=7, repr.plot.height=4)\n",
    "\n",
    "# Plot yearly proportion of deaths at the two clinics\n",
    "ggplot(yearly, aes(x = year, y = proportion_deaths, color = clinic))+\n",
    "    geom_line()"
   ]
  },
  {
   "cell_type": "markdown",
   "metadata": {},
   "source": [
    "# 4. The handwashing begins"
   ]
  },
  {
   "cell_type": "code",
   "execution_count": 6,
   "metadata": {},
   "outputs": [
    {
     "data": {
      "text/html": [
       "<table>\n",
       "<thead><tr><th scope=col>date</th><th scope=col>births</th><th scope=col>deaths</th><th scope=col>proportion_deaths</th></tr></thead>\n",
       "<tbody>\n",
       "\t<tr><td>1841-01-01 </td><td>254        </td><td>37         </td><td>0.145669291</td></tr>\n",
       "\t<tr><td>1841-02-01 </td><td>239        </td><td>18         </td><td>0.075313808</td></tr>\n",
       "\t<tr><td>1841-03-01 </td><td>277        </td><td>12         </td><td>0.043321300</td></tr>\n",
       "\t<tr><td>1841-04-01 </td><td>255        </td><td> 4         </td><td>0.015686275</td></tr>\n",
       "\t<tr><td>1841-05-01 </td><td>255        </td><td> 2         </td><td>0.007843137</td></tr>\n",
       "\t<tr><td>1841-06-01 </td><td>200        </td><td>10         </td><td>0.050000000</td></tr>\n",
       "</tbody>\n",
       "</table>\n"
      ],
      "text/latex": [
       "\\begin{tabular}{r|llll}\n",
       " date & births & deaths & proportion\\_deaths\\\\\n",
       "\\hline\n",
       "\t 1841-01-01  & 254         & 37          & 0.145669291\\\\\n",
       "\t 1841-02-01  & 239         & 18          & 0.075313808\\\\\n",
       "\t 1841-03-01  & 277         & 12          & 0.043321300\\\\\n",
       "\t 1841-04-01  & 255         &  4          & 0.015686275\\\\\n",
       "\t 1841-05-01  & 255         &  2          & 0.007843137\\\\\n",
       "\t 1841-06-01  & 200         & 10          & 0.050000000\\\\\n",
       "\\end{tabular}\n"
      ],
      "text/markdown": [
       "\n",
       "| date | births | deaths | proportion_deaths |\n",
       "|---|---|---|---|\n",
       "| 1841-01-01  | 254         | 37          | 0.145669291 |\n",
       "| 1841-02-01  | 239         | 18          | 0.075313808 |\n",
       "| 1841-03-01  | 277         | 12          | 0.043321300 |\n",
       "| 1841-04-01  | 255         |  4          | 0.015686275 |\n",
       "| 1841-05-01  | 255         |  2          | 0.007843137 |\n",
       "| 1841-06-01  | 200         | 10          | 0.050000000 |\n",
       "\n"
      ],
      "text/plain": [
       "  date       births deaths proportion_deaths\n",
       "1 1841-01-01 254    37     0.145669291      \n",
       "2 1841-02-01 239    18     0.075313808      \n",
       "3 1841-03-01 277    12     0.043321300      \n",
       "4 1841-04-01 255     4     0.015686275      \n",
       "5 1841-05-01 255     2     0.007843137      \n",
       "6 1841-06-01 200    10     0.050000000      "
      ]
     },
     "metadata": {},
     "output_type": "display_data"
    }
   ],
   "source": [
    "# Read datasets/monthly_deaths.csv into monthly\n",
    "monthly <- read.csv('datasets/monthly_deaths.csv')\n",
    "\n",
    "# Adding a new column with proportion of deaths per no. births\n",
    "monthly <- monthly %>%\n",
    "    mutate(proportion_deaths = deaths/births)\n",
    "\n",
    "# Print out the first rows in monthly\n",
    "head(monthly)"
   ]
  },
  {
   "cell_type": "markdown",
   "metadata": {},
   "source": [
    "# 5. The effect of handwashing"
   ]
  },
  {
   "cell_type": "code",
   "execution_count": 7,
   "metadata": {},
   "outputs": [
    {
     "data": {
      "image/png": "[encoded data removed]",
      "text/plain": [
       "plot without title"
      ]
     },
     "metadata": {},
     "output_type": "display_data"
    }
   ],
   "source": [
    "# Plot monthly proportion of deaths\n",
    "ggplot(monthly, aes(x = as.Date(date) , y = proportion_deaths, group = 1))+\n",
    "    geom_line() +      \n",
    "    labs(x= \"date\", y = \"proportion of deaths\", title = \"The effect of handwashing\") "
   ]
  },
  {
   "cell_type": "markdown",
   "metadata": {},
   "source": [
    "# 6. The effect of handwashing highlighted"
   ]
  },
  {
   "cell_type": "code",
   "execution_count": 8,
   "metadata": {},
   "outputs": [],
   "source": [
    "# monthly$date factor to Date\n",
    "monthly$date <- as.Date(monthly$date, \"%Y-%m-%d\")"
   ]
  },
  {
   "cell_type": "code",
   "execution_count": 9,
   "metadata": {},
   "outputs": [
    {
     "data": {
      "image/png": "[encoded data removed]",
      "text/plain": [
       "plot without title"
      ]
     },
     "metadata": {},
     "output_type": "display_data"
    }
   ],
   "source": [
    "# From this date handwashing was made mandatory\n",
    "handwashing_start = as.Date('1847-06-01')\n",
    "\n",
    "# Add a TRUE/FALSE column to monthly called handwashing_started\n",
    "monthly <- monthly %>%\n",
    "    mutate(handwashing_started = ifelse(date>handwashing_start,TRUE, FALSE))\n",
    "\n",
    "# Plot monthly proportion of deaths before and after handwashing\n",
    "ggplot(monthly, aes(x= date, y = proportion_deaths, color = handwashing_started)) +\n",
    "    geom_line() +\n",
    "    labs(x = \"date\", y = \"proportion of deaths\", title = \"The effect of handwashing highlighted\") "
   ]
  },
  {
   "cell_type": "markdown",
   "metadata": {},
   "source": [
    "# 7. More handwashing, fewer deaths?"
   ]
  },
  {
   "cell_type": "code",
   "execution_count": 10,
   "metadata": {},
   "outputs": [
    {
     "data": {
      "text/html": [
       "<table>\n",
       "<thead><tr><th scope=col>handwashing_started</th><th scope=col>mean_proportion_deaths</th></tr></thead>\n",
       "<tbody>\n",
       "\t<tr><td>FALSE     </td><td>0.10397645</td></tr>\n",
       "\t<tr><td> TRUE     </td><td>0.02103172</td></tr>\n",
       "</tbody>\n",
       "</table>\n"
      ],
      "text/latex": [
       "\\begin{tabular}{r|ll}\n",
       " handwashing\\_started & mean\\_proportion\\_deaths\\\\\n",
       "\\hline\n",
       "\t FALSE      & 0.10397645\\\\\n",
       "\t  TRUE      & 0.02103172\\\\\n",
       "\\end{tabular}\n"
      ],
      "text/markdown": [
       "\n",
       "| handwashing_started | mean_proportion_deaths |\n",
       "|---|---|\n",
       "| FALSE      | 0.10397645 |\n",
       "|  TRUE      | 0.02103172 |\n",
       "\n"
      ],
      "text/plain": [
       "  handwashing_started mean_proportion_deaths\n",
       "1 FALSE               0.10397645            \n",
       "2  TRUE               0.02103172            "
      ]
     },
     "metadata": {},
     "output_type": "display_data"
    }
   ],
   "source": [
    "# Calculating the mean proportion of deaths \n",
    "# before and after handwashing.\n",
    "\n",
    "monthly_summary <- monthly %>%\n",
    "    group_by(handwashing_started) %>%\n",
    "    summarize(mean_proportion_deaths = mean(proportion_deaths))\n",
    "\n",
    "# Printing out the summary.\n",
    "monthly_summary"
   ]
  },
  {
   "cell_type": "markdown",
   "metadata": {},
   "source": [
    "# 8. A statistical analysis of Semmelweis handwashing data"
   ]
  },
  {
   "cell_type": "markdown",
   "metadata": {},
   "source": [
    "If `df` is a data frame, `outcome` is a numeric column in `df`, and `group` group is a `TRUE/FALSE` column splitting `df` into two groups, then the following would run a t-test for the two groups: "
   ]
  },
  {
   "cell_type": "markdown",
   "metadata": {},
   "source": [
    "`t.test(outcome ~ group, data = df)`"
   ]
  },
  {
   "cell_type": "markdown",
   "metadata": {},
   "source": [
    "The tilde (`~`) should be read as \"depends on\", and so the above means \"assume the `outcome` depends on `group`\"."
   ]
  },
  {
   "cell_type": "code",
   "execution_count": 11,
   "metadata": {},
   "outputs": [],
   "source": [
    "help(t.test)"
   ]
  },
  {
   "cell_type": "code",
   "execution_count": 12,
   "metadata": {},
   "outputs": [
    {
     "data": {
      "text/plain": [
       "\n",
       "\tWelch Two Sample t-test\n",
       "\n",
       "data:  proportion_deaths by handwashing_started\n",
       "t = 9.464, df = 94.08, p-value = 2.517e-15\n",
       "alternative hypothesis: true difference in means is not equal to 0\n",
       "95 percent confidence interval:\n",
       " 0.06554333 0.10034612\n",
       "sample estimates:\n",
       "mean in group FALSE  mean in group TRUE \n",
       "         0.10397645          0.02103172 \n"
      ]
     },
     "metadata": {},
     "output_type": "display_data"
    }
   ],
   "source": [
    "# Calculating a 95% Confidence intrerval using t.test \n",
    "test_result <- t.test( proportion_deaths ~ handwashing_started , data = monthly)\n",
    "test_result"
   ]
  },
  {
   "cell_type": "markdown",
   "metadata": {},
   "source": [
    "# 9. The fate of Dr. Semmelweis"
   ]
  },
  {
   "cell_type": "code",
   "execution_count": 13,
   "metadata": {},
   "outputs": [],
   "source": [
    "# The data Semmelweis collected points to that:\n",
    "doctors_should_wash_their_hands <- TRUE"
   ]
  }
 ],
 "metadata": {
  "kernelspec": {
   "display_name": "R",
   "language": "R",
   "name": "ir"
  },
  "language_info": {
   "codemirror_mode": "r",
   "file_extension": ".r",
   "mimetype": "text/x-r-source",
   "name": "R",
   "pygments_lexer": "r",
   "version": "3.6.1"
  }
 },
 "nbformat": 4,
 "nbformat_minor": 4
}
